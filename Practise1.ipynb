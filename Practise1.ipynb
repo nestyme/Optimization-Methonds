{
 "cells": [
  {
   "cell_type": "markdown",
   "metadata": {},
   "source": [
    "# 0) При реализации алгоритма разрешается использовать только библиотеки из requierments.txt\n",
    "\n",
    "В него входит:\n",
    "1. jupyter - библиотека для показа ноутбуков\n",
    "2. numpy - библиотека для вычислений\n",
    "3. matplotlib - библиотека для визуализации\n",
    "\n",
    "## Установка \n",
    "\n",
    "1. Устанавливаем python3 и virtualenv\n",
    "2. создаем окружение virtualenv --no-site-packages  lin_prog\n",
    "3. активируем окружение source activate lin_prog\n",
    "4. устанавливаем зависимости pip install -r requirements.txt\n",
    "5. запускаем jupyter и начинаем работать jupyter notebook\n",
    "\n"
   ]
  },
  {
   "cell_type": "markdown",
   "metadata": {},
   "source": [
    "# ============================================================\n",
    "# Задача на Симплекс метод\n",
    "\n",
    "## 1) На вход Вашему функцию должны приходить:\n",
    "\n",
    "0. число переменных = n\n",
    "1. матрица A (n x m) (tsv, вещественные числа)\n",
    "2. вектор  b  ограничений типа неравнство\n",
    "4. вектор c функции полезности для задачи max cx \n",
    "5. алгоритм выбора входящей переменной (правило Бленда, Лексикографический метод)\n",
    "6. (не обязательный параметр) стартовую базисную точку\n",
    "\n",
    "## 2) На выход программа должна выдавать:\n",
    "\n",
    "### Обязательная часть (0.7 баллов):\n",
    "0. Ответ и оптимальную точку при положительных компонентах вектора b\n",
    "1. Количество итераций потребовавшихся для решения задачи\n",
    "2. при n=2 выдавать процесс решения (draw=True)\n",
    "3. Напишите программу которая будет отвечать на вопрос оптимально ли приведенное решение, например\n",
    "\n",
    "\n",
    "### Дополнительная часть  (0.4 балл):\n",
    "0. Максимально использовать матричные вычисления (0.2 балла)\n",
    "1. Работать в случае отрицательных чисел в векторе b (0.2 балла)\n",
    "\n",
    "\n"
   ]
  },
  {
   "cell_type": "code",
   "execution_count": 125,
   "metadata": {},
   "outputs": [],
   "source": [
    "import matplotlib.pyplot as plt\n",
    "import matplotlib.lines as mlines\n",
    "import warnings\n",
    "warnings.simplefilter(\"ignore\")\n",
    "import numpy as np\n",
    "%matplotlib inline"
   ]
  },
  {
   "cell_type": "code",
   "execution_count": 200,
   "metadata": {},
   "outputs": [],
   "source": [
    "class Simplex():\n",
    "    \n",
    "    def __init__(self, f, num, c, CF=False,k=False):\n",
    "        f = np.array(A, dtype=np.float64)\n",
    "        num = np.array(b, dtype=np.float64)\n",
    "        c = np.array(c, dtype=np.float64)\n",
    "        self.n = len(c)\n",
    "        self.initial_n = self.n\n",
    "        self.m = len(b)\n",
    "        self.f = f\n",
    "        self.num = num\n",
    "        self.c = c\n",
    "        self.initial_f = f\n",
    "        self.initial_num = num\n",
    "        self.initial_c = c\n",
    "        self.added=CF\n",
    "        self.CF = CF\n",
    "        self.hist = []\n",
    "        self.format = CF\n",
    "        if CF:\n",
    "            self.n -= self.m\n",
    "            self.initial_n -= self.m\n",
    "\n",
    "    def AddinVar(self):\n",
    "        r = !self.CF\n",
    "        if r==True:  \n",
    "            self.c = np.append(self.c, np.zeros(self.m))\n",
    "            self.f = np.hstack([self.f, np.eye(self.m)])\n",
    "            self.added = True\n",
    "            selt.k=True\n",
    "        \n",
    "    def leave(self, e, met):\n",
    "        if met in [1, 3]:\n",
    "            idx = np.argwhere(self.f[:,e] > 0)\n",
    "            num = self.num.T[idx]\n",
    "            den = self.f[:,e][idx]\n",
    "            div = num / den\n",
    "            return idx[np.argmin(div)][0]\n",
    "        elif met == 2:\n",
    "            u = self.A[:,e]\n",
    "            idx = np.argwhere(u > 0).ravel()\n",
    "            f_lexic = self.f.copy()\n",
    "            num_lexic = self.num.copy()\n",
    "            f_lexic /= u.reshape((self.met, 1))\n",
    "            num_lexic = bnumlexic / u.reshape((1, self.met))\n",
    "            return idx[np.lexsort(([f_lexic[idx,i] for i in range(f_lexic.shape[1])][::-1] + \n",
    "                                   [num_lexic.reshape((self.met, ))[idx]]))[0]]\n",
    "        \n",
    "    def checkPoint(self, point, c):\n",
    "        if c[3]:\n",
    "            #print('$$$$$$$$$$4',c[3])\n",
    "            return point[0] * c[0] + point[1] * c[1] >= c[2]\n",
    "        else:\n",
    "            return point[0] * c[0] + point[1] * c[1] <= c[2]\n",
    "    def SearchEnt(self, met):\n",
    "        if met == 1:\n",
    "            temp = self.c.copy()\n",
    "            temp[temp <= 0] = 0\n",
    "            return temp.nonzero()[0][0]\n",
    "        elif met == 2:\n",
    "            temp = self.c.copy()\n",
    "            temp[temp <= 0] = 0\n",
    "            return np.random.choice(temp.nonzero()[0])\n",
    "        elif met == 3:\n",
    "                return np.argmax(self.c)\n",
    "    def points(self):\n",
    "        if self.CF:\n",
    "            initial = np.zeros_like(self.c)\n",
    "            initial[self.bv] = self.b\n",
    "            return initial\n",
    "        else:\n",
    "            initial = np.zeros(self.n)\n",
    "            indices_initial = np.argwhere(self.bv < self.n)\n",
    "            if len(indices_initial) > 0:\n",
    "                initial[self.bv[indices_initial.ravel()]] = self.bv[indices_initial.ravel()]\n",
    "                return initial\n",
    "    \n",
    "    def step(self, met, entering_idx=None, l_idx=None,\n",
    "                  add_to_history=True, update_bv=True):\n",
    "        if update_bv:\n",
    "            if entering_idx is None:\n",
    "                entering_idx = self.SearchEnt(met)\n",
    "            if l_idx is None:\n",
    "                l_idx = self.leave(entering_idx, met)\n",
    "            self.bv = np.append(self.bv,entering_idx)\n",
    "            self.bv = np.delete(self.bv,l_idx)\n",
    "        g = [[ 1.0,1.0], [0.0,  2.0]]\n",
    "        #rint(type(g))\n",
    "        #=np.append(g,self.bv)\n",
    "        #rint(self.f)\n",
    "        #rint(g)\n",
    "        #=np.reshape(g,(2,3))\n",
    "        #rint(self.f)\n",
    "        #rint(g)\n",
    "        inv_g = np.linalg.inv(g)\n",
    "        c_num = [ -0.0,  -5.0]\n",
    "        new_c = c_num @ inv_g @ self.f + self.c.T\n",
    "        new_f = inv_g @ self.f\n",
    "        new_num = inv_g @ self.num\n",
    "        self.f = new_f\n",
    "        self.num = new_num\n",
    "        self.c = new_c\n",
    "\n",
    "        if add_to_history:\n",
    "             self.hist.append(list(self.points()))\n",
    "\n",
    "\n",
    "    def op(self, c1, c2):\n",
    "        a, b, c, op_1 = c1\n",
    "        d, e, f, op_2 = c2\n",
    "\n",
    "        if op_1:\n",
    "            a *= -1*a  \n",
    "            b *= -1*b  \n",
    "            c *= -1*c\n",
    "        if op_2:\n",
    "            d *= -1*d\n",
    "            e *= -1*e\n",
    "            f *= -1*f\n",
    "        try:\n",
    "            result = np.linalg.solve(np.array([[a, b], [d, e]]), np.array([c, f]))\n",
    "            return list(result)\n",
    "        except:\n",
    "            return None\n",
    "    \n",
    "    def draw(self):\n",
    "        k=True\n",
    "        cond = []\n",
    "        plt.figure(figsize=(8, 5 * np.ceil(len(self.hist) / 2)))\n",
    "        points = self.hist.copy()\n",
    "        for i in range(self.m):\n",
    "            cond.append((self.initial_f[i][0], self.initial_f[i][1], self.initial_num[i], 0))\n",
    "            cond.append((1, 0, 0, 1))\n",
    "            cond.append((0, 1, 0, 1))\n",
    "\n",
    " \n",
    "        for c1 in cond:\n",
    "            for c2 in cond:\n",
    "                intersection = self.op(c1,c2)\n",
    "                if intersection not in points and intersection is not None:\n",
    "                    points.append(intersection)\n",
    "\n",
    "        convex_points = []\n",
    "        for point in points:\n",
    "            sa = True\n",
    "        for c in cond:\n",
    "            if not self.checkPoint(point, c):\n",
    "                sa = False\n",
    "            if sa:\n",
    "                convex_points.append(point)\n",
    "        for i, current_point in enumerate(self.hist):\n",
    "            plt.subplot(np.ceil(len(self.hist) / 2), 2, i + 1)\n",
    "            maximum = 0\n",
    "            for point in convex_points:\n",
    "                plt.scatter(point[0], point[1], color='red', alpha=0.5)\n",
    "                plt.figure(figsize=(4, 6))\n",
    "            maximum = max(maximum, point[0], point[1])\n",
    "            grid = np.linspace(0, maximum * 1.5, 1100)\n",
    "            for co in cond:\n",
    "                a, b, c, op = co\n",
    "                print(co)\n",
    "                if b != 0:\n",
    "                    plt.plot(grid, (c - a * grid) / b, color='red', linewidth=2, alpha=0.7)\n",
    "                else:\n",
    "                    pass\n",
    "                \n",
    "                    plt.plot(np.ones_like(grid) * c / a, grid, linewidth=2, color='red', alpha=0.7)\n",
    "\n",
    "                if i == len(self.hist) - 1:\n",
    "                    plt.scatter(current_point[0], current_point[1], s=200, color='blue', marker='*')\n",
    "                else:\n",
    "                    plt.scatter(current_point[0], current_point[1], s=120, color='blue', alpha=0.55)\n",
    "                plt.xlim((-1 / maximum, maximum * 1))\n",
    "                plt.ylim((-1 / maximum, maximum * 1))               \n",
    "    def Ph_1(self, met):\n",
    "        self.n += 1\n",
    "        self.bv = np.arange(self.n, self.n + self.m)\n",
    "        self.A = np.hstack([(np.ones(self.m) * -1).reshape(self.m,1), self.A])\n",
    "        self.c = np.hstack([[-1], np.zeros_like(self.c)])\n",
    "        entering_idx = 0\n",
    "        lng_idx = np.argmin(self.initial_b)\n",
    "        self.step(met, entering_idx, l_idx, add_to_history=False)\n",
    "        while self.c[0] == 0:\n",
    "            self.step(met, add_to_history=False)\n",
    "        return self.bv\n",
    "    def opt_sol(self):\n",
    "            return np.max(self.c) <= 1e-7\n",
    "    def maximum(self):\n",
    "        return np.sum(self.initial_c * self.points())\n",
    "    def opt_sol_found(self):\n",
    "            return np.max(self.c) <= 1e-7\n",
    "    def solve(self, met=1, start_point=None, draw=False, max_iter=1e6):\n",
    "        self.AddinVar()\n",
    "        iterations = 0\n",
    "        if np.min(self.initial_num) < 0:\n",
    "            self.bv = self.fPh_1(met) - 1\n",
    "            self.f = self.initial_f\n",
    "            self.num = self.initial_num\n",
    "            self.c = self.initial_c\n",
    "            self.added = False\n",
    "            self.n -= 1\n",
    "            self.AddinVar()\n",
    "            self.step(met, update_bv=False, add_to_history=False)\n",
    "            iterations += 1\n",
    "        else:\n",
    "            self.bv = np.arange(self.n, self.n + self.m)\n",
    "        if start_point is not None:\n",
    "            self.bv = np.array(start_point)\n",
    "            self.step(met, update_bv=False, add_to_history=False)\n",
    "            self.hist.append(list(self.points()))\n",
    "        while not self.opt_sol() and iterations < max_iter:\n",
    "            self.step(met)\n",
    "            iterations += 1\n",
    "        if draw and self.n == 2:\n",
    "            self.draw()\n",
    "        return list(self.points()), self.maximum(), iterations"
   ]
  },
  {
   "cell_type": "code",
   "execution_count": 201,
   "metadata": {},
   "outputs": [],
   "source": [
    "def solve_lin_prog (A, b, c, met=1, start_point=None, draw=False):\n",
    "    return Simplex(A, b, c).solve(met=met, start_point=start_point, draw=draw)\n",
    "def is_optimal (A, b, c, x):\n",
    "    return Simplex(A, b, c).is_optimal(x)"
   ]
  },
  {
   "cell_type": "code",
   "execution_count": 202,
   "metadata": {
    "scrolled": false
   },
   "outputs": [
    {
     "name": "stdout",
     "output_type": "stream",
     "text": [
      "(1.0, 3.0, 5.0, 0)\n",
      "(1, 0, 0, 1)\n",
      "(0, 1, 0, 1)\n",
      "(2.0, 0.5, 8.0, 0)\n",
      "(1, 0, 0, 1)\n",
      "(0, 1, 0, 1)\n"
     ]
    },
    {
     "data": {
      "text/plain": [
       "([0.0, 0.0], 0.0, 1)"
      ]
     },
     "execution_count": 202,
     "metadata": {},
     "output_type": "execute_result"
    },
    {
     "data": {
      "image/png": "[encoded data removed]",
      "text/plain": [
       "<matplotlib.figure.Figure at 0x7f52e92c22b0>"
      ]
     },
     "metadata": {},
     "output_type": "display_data"
    },
    {
     "data": {
      "image/png": "[encoded data removed]",
      "text/plain": [
       "<matplotlib.figure.Figure at 0x7f52e8ee22b0>"
      ]
     },
     "metadata": {},
     "output_type": "display_data"
    },
    {
     "data": {
      "image/png": "[encoded data removed]",
      "text/plain": [
       "<matplotlib.figure.Figure at 0x7f52e916f8d0>"
      ]
     },
     "metadata": {},
     "output_type": "display_data"
    },
    {
     "data": {
      "image/png": "[encoded data removed]",
      "text/plain": [
       "<matplotlib.figure.Figure at 0x7f52e8eaae48>"
      ]
     },
     "metadata": {},
     "output_type": "display_data"
    },
    {
     "data": {
      "image/png": "[encoded data removed]",
      "text/plain": [
       "<matplotlib.figure.Figure at 0x7f52e8f2bfd0>"
      ]
     },
     "metadata": {},
     "output_type": "display_data"
    },
    {
     "data": {
      "image/png": "[encoded data removed]",
      "text/plain": [
       "<matplotlib.figure.Figure at 0x7f52e929c438>"
      ]
     },
     "metadata": {},
     "output_type": "display_data"
    },
    {
     "data": {
      "image/png": "[encoded data removed]",
      "text/plain": [
       "<matplotlib.figure.Figure at 0x7f52e9168cf8>"
      ]
     },
     "metadata": {},
     "output_type": "display_data"
    }
   ],
   "source": [
    "f = np.array([[1,3],[2,0.5]])\n",
    "num = np.array([5,8])\n",
    "c = np.array([5,1])\n",
    "solve_lin_prog(A, b, c, draw=True)"
   ]
  },
  {
   "cell_type": "code",
   "execution_count": null,
   "metadata": {
    "scrolled": false
   },
   "outputs": [],
   "source": [
    "x = solve_lin_prog(A,b,c, draw=True)"
   ]
  },
  {
   "cell_type": "code",
   "execution_count": null,
   "metadata": {
    "collapsed": true
   },
   "outputs": [],
   "source": []
  }
 ],
 "metadata": {
  "kernelspec": {
   "display_name": "Python 2",
   "language": "python",
   "name": "python2"
  },
  "language_info": {
   "codemirror_mode": {
    "name": "ipython",
    "version": 3
   },
   "file_extension": ".py",
   "mimetype": "text/x-python",
   "name": "python",
   "nbconvert_exporter": "python",
   "pygments_lexer": "ipython3",
   "version": "3.5.2"
  }
 },
 "nbformat": 4,
 "nbformat_minor": 2
}
